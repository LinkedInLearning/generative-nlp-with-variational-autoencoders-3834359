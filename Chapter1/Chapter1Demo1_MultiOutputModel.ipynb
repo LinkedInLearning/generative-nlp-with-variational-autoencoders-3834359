{
  "nbformat": 4,
  "nbformat_minor": 0,
  "metadata": {
    "colab": {
      "provenance": []
    },
    "kernelspec": {
      "name": "python3",
      "display_name": "Python 3"
    },
    "language_info": {
      "name": "python"
    }
  },
  "cells": [
    {
      "cell_type": "markdown",
      "source": [
        "# Creating a Multi Output Model"
      ],
      "metadata": {
        "id": "ZPdGWABD7msN"
      }
    },
    {
      "cell_type": "markdown",
      "source": [
        "Creating a Keras model with multiple outputs using the functional API is a powerful way to handle complex neural network architectures. I'll demonstrate this by constructing a simple model with two outputs. We'll then generate some dummy data to train this model.\n",
        "\n",
        "Here is the step-by-step process:\n",
        "\n",
        "1. Define the Model: We'll create a model with a single input layer and two separate output layers.\n",
        "\n",
        "2. Generate Dummy Data: To train and test the model, we'll create some dummy data that matches the input and output specifications of our model.\n",
        "\n",
        "3. Compile and Train the Model: We'll compile the model, specifying the loss function and optimizer, and then train the model on our dummy data."
      ],
      "metadata": {
        "id": "yJnZ84dB7p0P"
      }
    },
    {
      "cell_type": "code",
      "execution_count": null,
      "metadata": {
        "id": "oU8wPBwDDkGl"
      },
      "outputs": [],
      "source": [
        "import tensorflow as tf\n",
        "from tensorflow.keras.layers import Input, Dense\n",
        "from tensorflow.keras.models import Model\n",
        "import numpy as np\n",
        "\n",
        "# Step 1: Define the model\n",
        "input_layer = Input(shape=(10,))  # Assuming input features are of size 10\n",
        "dense_layer = Dense(64, activation='relu')(input_layer)\n",
        "\n",
        "# Two separate output layers\n",
        "output1 = Dense(1, activation='sigmoid', name='output1')(dense_layer)  # Binary classification output\n",
        "output2 = Dense(5, activation='softmax', name='output2')(dense_layer)  # Multiclass classification output\n",
        "\n",
        "# Create the model\n",
        "model = Model(inputs=input_layer, outputs=[output1, output2])\n"
      ]
    },
    {
      "cell_type": "code",
      "source": [
        "# Step 2: Generate dummy data\n",
        "# Dummy input data\n",
        "x_dummy = np.random.random((1000, 10))\n",
        "\n",
        "# Dummy output data\n",
        "y_dummy_output1 = np.random.randint(2, size=(1000, 1))  # Binary labels\n",
        "y_dummy_output2 = np.random.randint(5, size=(1000, 5))  # One-hot encoded labels for 5 classes\n"
      ],
      "metadata": {
        "id": "luK0zqtC72uE"
      },
      "execution_count": null,
      "outputs": []
    },
    {
      "cell_type": "code",
      "source": [
        "# Step 3: Compile and train the model\n",
        "model.compile(optimizer='adam',\n",
        "              loss={'output1': 'binary_crossentropy', 'output2': 'categorical_crossentropy'},\n",
        "              metrics={'output1': ['accuracy'], 'output2': ['accuracy']})\n",
        "\n",
        "model.fit(x_dummy, {'output1': y_dummy_output1, 'output2': y_dummy_output2}, epochs=10)\n"
      ],
      "metadata": {
        "colab": {
          "base_uri": "https://localhost:8080/"
        },
        "id": "wF8OdW3575g1",
        "outputId": "cd1599c7-0069-4272-c6f0-447d49bc5d14"
      },
      "execution_count": null,
      "outputs": [
        {
          "output_type": "stream",
          "name": "stdout",
          "text": [
            "Epoch 1/10\n",
            "32/32 [==============================] - 1s 3ms/step - loss: 16.9213 - output1_loss: 0.6977 - output2_loss: 16.2236 - output1_accuracy: 0.5120 - output2_accuracy: 0.1820\n",
            "Epoch 2/10\n",
            "32/32 [==============================] - 0s 3ms/step - loss: 16.9787 - output1_loss: 0.6931 - output2_loss: 16.2856 - output1_accuracy: 0.5180 - output2_accuracy: 0.2090\n",
            "Epoch 3/10\n",
            "32/32 [==============================] - 0s 3ms/step - loss: 17.2440 - output1_loss: 0.6940 - output2_loss: 16.5500 - output1_accuracy: 0.5200 - output2_accuracy: 0.2060\n",
            "Epoch 4/10\n",
            "32/32 [==============================] - 0s 3ms/step - loss: 17.5734 - output1_loss: 0.6933 - output2_loss: 16.8800 - output1_accuracy: 0.5060 - output2_accuracy: 0.2110\n",
            "Epoch 5/10\n",
            "32/32 [==============================] - 0s 2ms/step - loss: 18.0267 - output1_loss: 0.6943 - output2_loss: 17.3324 - output1_accuracy: 0.5000 - output2_accuracy: 0.2210\n",
            "Epoch 6/10\n",
            "32/32 [==============================] - 0s 3ms/step - loss: 18.3554 - output1_loss: 0.6933 - output2_loss: 17.6621 - output1_accuracy: 0.5190 - output2_accuracy: 0.2280\n",
            "Epoch 7/10\n",
            "32/32 [==============================] - 0s 5ms/step - loss: 18.9708 - output1_loss: 0.6985 - output2_loss: 18.2723 - output1_accuracy: 0.4950 - output2_accuracy: 0.2070\n",
            "Epoch 8/10\n",
            "32/32 [==============================] - 0s 4ms/step - loss: 19.3670 - output1_loss: 0.6951 - output2_loss: 18.6719 - output1_accuracy: 0.5200 - output2_accuracy: 0.1890\n",
            "Epoch 9/10\n",
            "32/32 [==============================] - 0s 5ms/step - loss: 19.5770 - output1_loss: 0.6964 - output2_loss: 18.8806 - output1_accuracy: 0.5000 - output2_accuracy: 0.1900\n",
            "Epoch 10/10\n",
            "32/32 [==============================] - 0s 4ms/step - loss: 19.6923 - output1_loss: 0.6998 - output2_loss: 18.9925 - output1_accuracy: 0.4990 - output2_accuracy: 0.1810\n"
          ]
        },
        {
          "output_type": "execute_result",
          "data": {
            "text/plain": [
              "<keras.src.callbacks.History at 0x7983f870f130>"
            ]
          },
          "metadata": {},
          "execution_count": 5
        }
      ]
    },
    {
      "cell_type": "markdown",
      "source": [
        "Once a Keras model is trained, you can evaluate its performance on a test dataset and use it to make predictions. Continuing from the previous example, I'll show you how to:\n",
        "\n",
        "1. Evaluate the Model: We'll evaluate the model on a separate set of dummy data to see how it performs.\n",
        "\n",
        "1. Use the Model for Prediction: We'll use the model to make predictions based on new input data."
      ],
      "metadata": {
        "id": "RYbDaqFR8ANo"
      }
    },
    {
      "cell_type": "code",
      "source": [
        "# Step 1: Evaluate the model\n",
        "\n",
        "# Generate some dummy test data\n",
        "x_dummy_test = np.random.random((200, 10))\n",
        "y_dummy_test_output1 = np.random.randint(2, size=(200, 1))  # Binary labels\n",
        "y_dummy_test_output2 = np.random.randint(5, size=(200, 5))  # One-hot encoded labels for 5 classes\n",
        "\n",
        "# Evaluate the model\n",
        "evaluation = model.evaluate(x_dummy_test, {'output1': y_dummy_test_output1, 'output2': y_dummy_test_output2})\n",
        "print(f\"Test Loss, Test Accuracy for Output 1: {evaluation[1]}, {evaluation[3]}\")\n",
        "print(f\"Test Loss, Test Accuracy for Output 2: {evaluation[2]}, {evaluation[4]}\")\n"
      ],
      "metadata": {
        "colab": {
          "base_uri": "https://localhost:8080/"
        },
        "id": "yfJdE2QY6jVB",
        "outputId": "7241d586-82fb-4bf7-e518-9b1beac3736a"
      },
      "execution_count": null,
      "outputs": [
        {
          "output_type": "stream",
          "name": "stdout",
          "text": [
            "7/7 [==============================] - 0s 4ms/step - loss: 19.4892 - output1_loss: 0.7219 - output2_loss: 18.7673 - output1_accuracy: 0.4800 - output2_accuracy: 0.1600\n",
            "Test Loss, Test Accuracy for Output 1: 0.7219060659408569, 0.47999998927116394\n",
            "Test Loss, Test Accuracy for Output 2: 18.767263412475586, 0.1599999964237213\n"
          ]
        }
      ]
    },
    {
      "cell_type": "code",
      "source": [
        "\n",
        "# Step 2: Use the model for prediction\n",
        "\n",
        "# New sample data for prediction\n",
        "new_sample = np.random.random((1, 10))\n",
        "\n",
        "# Making predictions\n",
        "predictions = model.predict(new_sample)\n",
        "print(f\"Predictions for Output 1 (Binary classification): {predictions[0]}\")\n",
        "print(f\"Predictions for Output 2 (Multiclass classification): {predictions[1]}\")\n"
      ],
      "metadata": {
        "colab": {
          "base_uri": "https://localhost:8080/"
        },
        "id": "aExqPT_48EXT",
        "outputId": "55beacf6-2fb9-46ad-b570-6bee6e976787"
      },
      "execution_count": null,
      "outputs": [
        {
          "output_type": "stream",
          "name": "stdout",
          "text": [
            "1/1 [==============================] - 0s 97ms/step\n",
            "Predictions for Output 1 (Binary classification): [[0.3859186]]\n",
            "Predictions for Output 2 (Multiclass classification): [[0.03283196 0.36771607 0.16702855 0.12433548 0.30808797]]\n"
          ]
        }
      ]
    }
  ]
}