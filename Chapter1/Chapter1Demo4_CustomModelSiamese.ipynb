{
  "nbformat": 4,
  "nbformat_minor": 0,
  "metadata": {
    "colab": {
      "provenance": []
    },
    "kernelspec": {
      "name": "python3",
      "display_name": "Python 3"
    },
    "language_info": {
      "name": "python"
    }
  },
  "cells": [
    {
      "cell_type": "markdown",
      "source": [
        "# Creating a Siamese Network"
      ],
      "metadata": {
        "id": "mAmGbT7jMunI"
      }
    },
    {
      "cell_type": "markdown",
      "source": [
        "Creating a Siamese Network Model in Keras with a custom layer and a custom loss function involves several steps. We'll start by defining the custom layer and the custom loss function, and then proceed to build the Siamese Network."
      ],
      "metadata": {
        "id": "RvsI8OkcM8W3"
      }
    },
    {
      "cell_type": "code",
      "source": [
        "import tensorflow as tf\n",
        "import numpy as np\n",
        "from tensorflow.keras.layers import Layer, Input, Dense, Flatten, Lambda\n",
        "from tensorflow.keras.models import Model\n",
        "\n",
        "class CustomLayer(Layer):\n",
        "    def __init__(self, units=32, **kwargs):\n",
        "        super(CustomLayer, self).__init__(**kwargs)\n",
        "        self.units = units\n",
        "\n",
        "    def build(self, input_shape):\n",
        "        self.w = self.add_weight(shape=(input_shape[-1], self.units),\n",
        "                                 initializer='random_normal',\n",
        "                                 trainable=True)\n",
        "\n",
        "    def call(self, inputs):\n",
        "        return tf.matmul(inputs, self.w)\n"
      ],
      "metadata": {
        "id": "_7Me2snDM73I"
      },
      "execution_count": null,
      "outputs": []
    },
    {
      "cell_type": "code",
      "source": [
        "def contrastive_loss(y_true, y_pred):\n",
        "    margin = 1\n",
        "    y_true = tf.cast(y_true, dtype=tf.float32)\n",
        "    square_pred = tf.square(y_pred)\n",
        "    margin_square = tf.square(tf.maximum(margin - y_pred, 0))\n",
        "    return tf.reduce_mean(y_true * square_pred + (1 - y_true) * margin_square)\n"
      ],
      "metadata": {
        "id": "aJ8PbbukNBwT"
      },
      "execution_count": null,
      "outputs": []
    },
    {
      "cell_type": "markdown",
      "source": [
        "A Siamese Network consists of two identical subnetworks with shared weights."
      ],
      "metadata": {
        "id": "MP9CreVHNJT-"
      }
    },
    {
      "cell_type": "code",
      "source": [
        "def build_base_network(input_shape):\n",
        "    input = Input(shape=input_shape)\n",
        "    x = Flatten()(input)\n",
        "    x = Dense(128, activation='relu')(x)\n",
        "    x = CustomLayer(64)(x)\n",
        "    return Model(input, x)\n",
        "\n",
        "# Assuming MNIST images of shape 28x28\n",
        "input_shape = (28, 28)\n",
        "\n",
        "# Create the base network\n",
        "base_network = build_base_network(input_shape)\n",
        "\n",
        "# Create the left input and point to the base network\n",
        "input_a = Input(shape=input_shape)\n",
        "processed_a = base_network(input_a)\n",
        "\n",
        "# Create the right input and point to the base network\n",
        "input_b = Input(shape=input_shape)\n",
        "processed_b = base_network(input_b)\n",
        "\n",
        "# Add a distance metric, e.g., Euclidean distance\n",
        "distance = Lambda(lambda embeddings: tf.sqrt(tf.reduce_sum(tf.square(embeddings[0] - embeddings[1]), axis=1, keepdims=True)))(\n",
        "    [processed_a, processed_b])\n",
        "\n",
        "# Create the Siamese Network model\n",
        "model = Model([input_a, input_b], distance)\n",
        "\n",
        "# Compile the model\n",
        "model.compile(loss=contrastive_loss, optimizer='adam')\n"
      ],
      "metadata": {
        "id": "9vuszEKpNGnF"
      },
      "execution_count": null,
      "outputs": []
    },
    {
      "cell_type": "markdown",
      "source": [
        "Let's create some dummy data to train the Siamese Network. In a real-world scenario, this would be pairs of images and a label indicating whether they are similar or not. For simplicity, we will create random numpy arrays as dummy data. The concept remains the same for actual image data."
      ],
      "metadata": {
        "id": "IHAw4VEUNTla"
      }
    },
    {
      "cell_type": "code",
      "source": [
        "# Generate dummy data\n",
        "def generate_dummy_data(num_samples=1000, input_shape=(28, 28)):\n",
        "    data = np.random.random((num_samples, *input_shape))\n",
        "    labels = np.random.randint(0, 2, (num_samples, 1))\n",
        "    return data, labels\n",
        "\n",
        "num_samples = 1000\n",
        "input_shape = (28, 28)\n",
        "\n",
        "# Generate pairs of dummy data\n",
        "data_a, labels_a = generate_dummy_data(num_samples, input_shape)\n",
        "data_b, labels_b = generate_dummy_data(num_samples, input_shape)\n",
        "\n",
        "# Generating labels (1 if pairs are similar, 0 if they are different)\n",
        "labels = np.equal(labels_a, labels_b).astype(float)\n",
        "\n",
        "# Train the model\n",
        "model.fit([data_a, data_b], labels, batch_size=128, epochs=10)"
      ],
      "metadata": {
        "colab": {
          "base_uri": "https://localhost:8080/"
        },
        "id": "SgM9Q3OJNXMW",
        "outputId": "787a37ad-4ca3-4a66-e80b-2b16430422d2"
      },
      "execution_count": null,
      "outputs": [
        {
          "output_type": "stream",
          "name": "stdout",
          "text": [
            "Epoch 1/10\n",
            "8/8 [==============================] - 1s 7ms/step - loss: 0.5261\n",
            "Epoch 2/10\n",
            "8/8 [==============================] - 0s 6ms/step - loss: 0.2496\n",
            "Epoch 3/10\n",
            "8/8 [==============================] - 0s 6ms/step - loss: 0.2257\n",
            "Epoch 4/10\n",
            "8/8 [==============================] - 0s 7ms/step - loss: 0.2021\n",
            "Epoch 5/10\n",
            "8/8 [==============================] - 0s 7ms/step - loss: 0.1787\n",
            "Epoch 6/10\n",
            "8/8 [==============================] - 0s 10ms/step - loss: 0.1572\n",
            "Epoch 7/10\n",
            "8/8 [==============================] - 0s 6ms/step - loss: 0.1383\n",
            "Epoch 8/10\n",
            "8/8 [==============================] - 0s 7ms/step - loss: 0.1212\n",
            "Epoch 9/10\n",
            "8/8 [==============================] - 0s 7ms/step - loss: 0.1068\n",
            "Epoch 10/10\n",
            "8/8 [==============================] - 0s 6ms/step - loss: 0.0941\n"
          ]
        },
        {
          "output_type": "execute_result",
          "data": {
            "text/plain": [
              "<keras.src.callbacks.History at 0x7ed73aabd720>"
            ]
          },
          "metadata": {},
          "execution_count": 8
        }
      ]
    }
  ]
}